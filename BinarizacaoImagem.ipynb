{
  "nbformat": 4,
  "nbformat_minor": 0,
  "metadata": {
    "colab": {
      "provenance": [],
      "authorship_tag": "ABX9TyNyjXPJQIO5FwGOEAdH0xmO",
      "include_colab_link": true
    },
    "kernelspec": {
      "name": "python3",
      "display_name": "Python 3"
    },
    "language_info": {
      "name": "python"
    }
  },
  "cells": [
    {
      "cell_type": "markdown",
      "metadata": {
        "id": "view-in-github",
        "colab_type": "text"
      },
      "source": [
        "<a href=\"https://colab.research.google.com/github/w-e-s-l-e-y/BairesDev---Machine-Learning-Practitioner/blob/main/BinarizacaoImagem.ipynb\" target=\"_parent\"><img src=\"https://colab.research.google.com/assets/colab-badge.svg\" alt=\"Open In Colab\"/></a>"
      ]
    },
    {
      "cell_type": "code",
      "source": [
        "from google.colab import drive\n",
        "drive.mount('/content/drive')"
      ],
      "metadata": {
        "colab": {
          "base_uri": "https://localhost:8080/"
        },
        "id": "EfJ7bPs3rD9i",
        "outputId": "cad1bc53-7d55-42c4-ef26-862545254e16"
      },
      "execution_count": null,
      "outputs": [
        {
          "output_type": "stream",
          "name": "stdout",
          "text": [
            "Drive already mounted at /content/drive; to attempt to forcibly remount, call drive.mount(\"/content/drive\", force_remount=True).\n"
          ]
        }
      ]
    },
    {
      "cell_type": "code",
      "execution_count": 5,
      "metadata": {
        "colab": {
          "base_uri": "https://localhost:8080/"
        },
        "id": "_QRjag3he9Pw",
        "outputId": "1911f3e6-5244-4a3d-c730-7f512778d197"
      },
      "outputs": [
        {
          "output_type": "stream",
          "name": "stdout",
          "text": [
            "Drive already mounted at /content/drive; to attempt to forcibly remount, call drive.mount(\"/content/drive\", force_remount=True).\n",
            "Imagem carregada com sucesso de /content/drive/MyDrive/Colab Notebooks/butterfly.ppm\n",
            "Imagem em tons de cinza salva em: /content/drive/MyDrive/Colab Notebooks/butterfly_cinza.ppm\n",
            "Imagem binarizada salva em: /content/drive/MyDrive/Colab Notebooks/butterfly_binaria.ppm\n"
          ]
        }
      ],
      "source": [
        "def carregar_imagem_ppm(caminho):\n",
        "    \"\"\"\n",
        "    Carrega uma imagem PPM (formato P3) e a converte em uma matriz 3D RGB.\n",
        "    Lida com erros de decodificação e tenta diferentes encodings.\n",
        "    \"\"\"\n",
        "    try:\n",
        "        with open(caminho, 'rb') as f:\n",
        "            linhas = f.readlines()\n",
        "\n",
        "        # Tentativa de decodificação com encodings comuns\n",
        "        encodings = ['utf-8', 'latin-1', 'cp1252']\n",
        "        decoded_lines = None\n",
        "\n",
        "        for enc in encodings:\n",
        "            try:\n",
        "                decoded_lines = [linha.decode(enc).strip() for linha in linhas if not linha.startswith(b'#')]\n",
        "                if decoded_lines[0] == 'P3':\n",
        "                    break\n",
        "            except UnicodeDecodeError:\n",
        "                continue\n",
        "\n",
        "        if decoded_lines is None:\n",
        "            raise ValueError(\"Não foi possível decodificar o arquivo PPM com nenhum dos encodings: \" + \", \".join(encodings))\n",
        "\n",
        "        # Ignorar comentários e obter cabeçalho\n",
        "        assert decoded_lines[0] == 'P3', \"Formato PPM inválido! Use imagens P3.\"\n",
        "\n",
        "        # Dimensões da imagem e valor máximo\n",
        "        largura, altura = map(int, decoded_lines[1].split())\n",
        "        max_val = int(decoded_lines[2])\n",
        "\n",
        "        # Dados de pixels\n",
        "        pixels = decoded_lines[3:]\n",
        "        pixels = [int(valor) for valor in \" \".join(pixels).split()]\n",
        "\n",
        "        # Converter para matriz 3D\n",
        "        imagem = []\n",
        "        for i in range(altura):\n",
        "            linha = []\n",
        "            for j in range(largura):\n",
        "                idx = (i * largura + j) * 3\n",
        "                linha.append([pixels[idx], pixels[idx + 1], pixels[idx + 2]])\n",
        "            imagem.append(linha)\n",
        "\n",
        "        return imagem, largura, altura, max_val\n",
        "\n",
        "    except FileNotFoundError:\n",
        "        raise FileNotFoundError(f\"Arquivo não encontrado: {caminho}\")\n",
        "    except Exception as e:\n",
        "        raise Exception(f\"Erro ao carregar imagem PPM: {e}\")\n",
        "\n",
        "def salvar_imagem_ppm(caminho, imagem, largura, altura, max_val=255, tons_de_cinza=False):\n",
        "    \"\"\"\n",
        "    Salva uma matriz de imagem em um arquivo PPM (formato P3).\n",
        "    Aceita matrizes RGB (3D) ou em tons de cinza (2D).\n",
        "    \"\"\"\n",
        "    with open(caminho, 'w') as f:\n",
        "        if tons_de_cinza:\n",
        "            f.write(\"P2\\n\")  # P2 para tons de cinza\n",
        "        else:\n",
        "            f.write(\"P3\\n\")  # P3 para RGB\n",
        "        f.write(f\"{largura} {altura}\\n\")\n",
        "        f.write(f\"{max_val}\\n\")\n",
        "\n",
        "        for linha in imagem:\n",
        "            if tons_de_cinza:\n",
        "                f.write(\" \".join(map(str, linha)) + \"\\n\")\n",
        "            else:\n",
        "                for pixel in linha:\n",
        "                    f.write(f\"{pixel[0]} {pixel[1]} {pixel[2]} \")\n",
        "                f.write(\"\\n\")\n",
        "\n",
        "def rgb_para_tons_de_cinza(imagem):\n",
        "    \"\"\"\n",
        "    Converte uma imagem RGB para tons de cinza.\n",
        "    \"\"\"\n",
        "    altura = len(imagem)\n",
        "    largura = len(imagem[0])\n",
        "    tons_de_cinza = [[0] * largura for _ in range(altura)]\n",
        "\n",
        "    for i in range(altura):\n",
        "        for j in range(largura):\n",
        "            r, g, b = imagem[i][j]\n",
        "            tons_de_cinza[i][j] = int(0.299 * r + 0.587 * g + 0.114 * b)\n",
        "\n",
        "    return tons_de_cinza\n",
        "\n",
        "def tons_de_cinza_para_binario(imagem, limiar=128):\n",
        "    \"\"\"\n",
        "    Converte uma imagem em tons de cinza para binário (preto e branco).\n",
        "    \"\"\"\n",
        "    altura = len(imagem)\n",
        "    largura = len(imagem[0])\n",
        "    binario = [[0] * largura for _ in range(altura)]\n",
        "\n",
        "    for i in range(altura):\n",
        "        for j in range(largura):\n",
        "            binario[i][j] = 255 if imagem[i][j] >= limiar else 0\n",
        "\n",
        "    return binario\n",
        "\n",
        "if __name__ == \"__main__\":\n",
        "    # Montar o Google Drive e acessar os arquivos\n",
        "    from google.colab import drive\n",
        "    drive.mount('/content/drive')\n",
        "\n",
        "    # Defina os caminhos de entrada e saída\n",
        "    caminho_entrada = \"/content/drive/MyDrive/Colab Notebooks/butterfly.ppm\"  # Substitua pelo caminho correto da sua imagem\n",
        "    caminho_saida_cinza = \"/content/drive/MyDrive/Colab Notebooks/butterfly_cinza.ppm\"\n",
        "    caminho_saida_binaria = \"/content/drive/MyDrive/Colab Notebooks/butterfly_binaria.ppm\"\n",
        "\n",
        "    # Carregar a imagem do Google Drive\n",
        "    try:\n",
        "        imagem, largura, altura, max_val = carregar_imagem_ppm(caminho_entrada)\n",
        "        print(f\"Imagem carregada com sucesso de {caminho_entrada}\")\n",
        "\n",
        "        # Converter para tons de cinza\n",
        "        imagem_cinza = rgb_para_tons_de_cinza(imagem)\n",
        "        salvar_imagem_ppm(caminho_saida_cinza, imagem_cinza, largura, altura, tons_de_cinza=True)\n",
        "        print(f\"Imagem em tons de cinza salva em: {caminho_saida_cinza}\")\n",
        "\n",
        "        # Converter para binário (preto e branco)\n",
        "        imagem_binaria = tons_de_cinza_para_binario(imagem_cinza, limiar=128)\n",
        "        salvar_imagem_ppm(caminho_saida_binaria, imagem_binaria, largura, altura, tons_de_cinza=True)\n",
        "        print(f\"Imagem binarizada salva em: {caminho_saida_binaria}\")\n",
        "\n",
        "    except (FileNotFoundError, ValueError, Exception) as e:\n",
        "        print(f\"Erro: {e}\")"
      ]
    }
  ]
}