{
  "cells": [
    {
      "cell_type": "markdown",
      "metadata": {
        "id": "view-in-github",
        "colab_type": "text"
      },
      "source": [
        "<a href=\"https://colab.research.google.com/github/w-e-s-l-e-y/BairesDev---Machine-Learning-Practitioner/blob/main/Projeto_TranferLearning_catsxdogs_wesley.ipynb\" target=\"_parent\"><img src=\"https://colab.research.google.com/assets/colab-badge.svg\" alt=\"Open In Colab\"/></a>"
      ]
    },
    {
      "cell_type": "code",
      "execution_count": 1,
      "metadata": {
        "id": "7AfyNzm3D4gh"
      },
      "outputs": [],
      "source": [
        "import os\n",
        "import zipfile\n",
        "import random\n",
        "import tensorflow as tf\n",
        "from shutil import copyfile"
      ]
    },
    {
      "cell_type": "code",
      "execution_count": 2,
      "metadata": {
        "colab": {
          "base_uri": "https://localhost:8080/"
        },
        "id": "p5numTEDJYdL",
        "outputId": "6054e395-679a-485f-d9b0-03beb42a2e40"
      },
      "outputs": [
        {
          "output_type": "stream",
          "name": "stdout",
          "text": [
            "--2025-01-10 10:28:09--  https://download.microsoft.com/download/3/E/1/3E1C3F21-ECDB-4869-8368-6DEBA77B919F/kagglecatsanddogs_5340.zip\n",
            "Resolving download.microsoft.com (download.microsoft.com)... 104.72.156.221, 2600:1408:10:3b2::317f, 2600:1408:10:38c::317f\n",
            "Connecting to download.microsoft.com (download.microsoft.com)|104.72.156.221|:443... connected.\n",
            "HTTP request sent, awaiting response... 200 OK\n",
            "Length: 824887076 (787M) [application/octet-stream]\n",
            "Saving to: ‘/tmp/cats-and-dogs.zip’\n",
            "\n",
            "/tmp/cats-and-dogs. 100%[===================>] 786.67M  69.9MB/s    in 11s     \n",
            "\n",
            "2025-01-10 10:28:21 (73.9 MB/s) - ‘/tmp/cats-and-dogs.zip’ saved [824887076/824887076]\n",
            "\n",
            "Download concluído!\n",
            "Arquivo extraído com sucesso!\n"
          ]
        }
      ],
      "source": [
        "# Download do arquivo (se necessário, ajuste o comando `wget` no seu terminal Linux)\n",
        "# Substitua este link por um atualizado se não funcionar\n",
        "\n",
        "# Verificando se o arquivo já existe para evitar downloads repetidos\n",
        "if not os.path.exists('/tmp/cats-and-dogs.zip'):\n",
        "    !wget --no-check-certificate \\\n",
        "    \"https://download.microsoft.com/download/3/E/1/3E1C3F21-ECDB-4869-8368-6DEBA77B919F/kagglecatsanddogs_5340.zip\" \\\n",
        "    -O \"/tmp/cats-and-dogs.zip\"\n",
        "    print(\"Download concluído!\")\n",
        "else:\n",
        "    print(\"Arquivo já existe, pulando o download.\")\n",
        "\n",
        "\n",
        "# Caminho para o arquivo ZIP baixado\n",
        "local_zip = '/tmp/cats-and-dogs.zip'\n",
        "extract_dir = '/tmp'\n",
        "\n",
        "if not os.path.exists(f\"{extract_dir}/PetImages\"):\n",
        "    with zipfile.ZipFile(local_zip, 'r') as zip_ref:\n",
        "        zip_ref.extractall(extract_dir)\n",
        "    print(\"Arquivo extraído com sucesso!\")\n",
        "else:\n",
        "    print(\"Os arquivos já foram extraídos, pulando esta etapa.\")\n"
      ]
    },
    {
      "cell_type": "code",
      "execution_count": 3,
      "metadata": {
        "colab": {
          "base_uri": "https://localhost:8080/"
        },
        "id": "_ZFG1QnNLgN2",
        "outputId": "00a20fee-4a23-4356-c6e6-34993d791302"
      },
      "outputs": [
        {
          "output_type": "stream",
          "name": "stdout",
          "text": [
            "Número de imagens de gatos: 12501\n",
            "Número de imagens de cachorros: 12501\n"
          ]
        }
      ],
      "source": [
        "# Diretórios das imagens\n",
        "cat_dir = '/tmp/PetImages/Cat/'\n",
        "dog_dir = '/tmp/PetImages/Dog/'\n",
        "\n",
        "# Contagem das imagens\n",
        "print(f\"Número de imagens de gatos: {len(os.listdir(cat_dir))}\")\n",
        "print(f\"Número de imagens de cachorros: {len(os.listdir(dog_dir))}\")\n",
        "\n",
        "# Saída esperada (se os dados estiverem completos e intactos):\n",
        "# Número de imagens de gatos: 12501\n",
        "# Número de imagens de cachorros: 12501"
      ]
    },
    {
      "cell_type": "code",
      "execution_count": 4,
      "metadata": {
        "id": "5meyLwR8McVQ"
      },
      "outputs": [],
      "source": [
        "try:\n",
        "    # Criando as pastas principais\n",
        "    os.mkdir('/tmp/cats-v-dogs')\n",
        "    os.mkdir('/tmp/cats-v-dogs/training')\n",
        "    os.mkdir('/tmp/cats-v-dogs/testing')\n",
        "\n",
        "    # Criando as subpastas para gatos e cachorros\n",
        "    os.mkdir('/tmp/cats-v-dogs/training/cats')\n",
        "    os.mkdir('/tmp/cats-v-dogs/training/dogs')\n",
        "    os.mkdir('/tmp/cats-v-dogs/testing/cats')\n",
        "    os.mkdir('/tmp/cats-v-dogs/testing/dogs')\n",
        "except OSError:\n",
        "    pass  # Ignora o erro caso as pastas já existam\n"
      ]
    },
    {
      "cell_type": "code",
      "execution_count": 5,
      "metadata": {
        "colab": {
          "base_uri": "https://localhost:8080/"
        },
        "id": "46weX2j8m__z",
        "outputId": "80018d53-2ed9-4901-8929-690cbd95cddd"
      },
      "outputs": [
        {
          "output_type": "stream",
          "name": "stdout",
          "text": [
            "666.jpg is zero length, so ignoring.\n",
            "11702.jpg is zero length, so ignoring.\n"
          ]
        }
      ],
      "source": [
        "# Função para dividir os dados em treinamento e teste\n",
        "def split_data(SOURCE, TRAINING, TESTING, SPLIT_SIZE):\n",
        "    files = []\n",
        "\n",
        "    # Listando os arquivos na pasta de origem\n",
        "    for filename in os.listdir(SOURCE):\n",
        "        file = SOURCE + filename\n",
        "        if os.path.getsize(file) > 0:  # Verifica se o arquivo não está vazio\n",
        "            files.append(filename)\n",
        "        else:\n",
        "            print(f\"{filename} is zero length, so ignoring.\")  # Ignora arquivos vazios\n",
        "\n",
        "    # Determinando o tamanho dos conjuntos de treinamento e teste\n",
        "    training_length = int(len(files) * SPLIT_SIZE)\n",
        "    testing_length = len(files) - training_length\n",
        "\n",
        "    # Embaralhando os arquivos\n",
        "    shuffled_set = random.sample(files, len(files))\n",
        "\n",
        "    # Dividindo os arquivos em conjuntos de treinamento e teste\n",
        "    training_set = shuffled_set[:training_length]\n",
        "    testing_set = shuffled_set[-testing_length:]\n",
        "\n",
        "    # Copiando os arquivos para os diretórios de treinamento e teste\n",
        "    for filename in training_set:\n",
        "        this_file = SOURCE + filename\n",
        "        destination = TRAINING + filename\n",
        "        copyfile(this_file, destination)\n",
        "\n",
        "    for filename in testing_set:\n",
        "        this_file = SOURCE + filename\n",
        "        destination = TESTING + filename\n",
        "        copyfile(this_file, destination)\n",
        "\n",
        "# Diretórios das imagens de gatos e cachorros\n",
        "CAT_SOURCE_DIR = \"/tmp/PetImages/Cat/\"\n",
        "TRAINING_CATS_DIR = \"/tmp/cats-v-dogs/training/cats/\"\n",
        "TESTING_CATS_DIR = \"/tmp/cats-v-dogs/testing/cats/\"\n",
        "\n",
        "DOG_SOURCE_DIR = \"/tmp/PetImages/Dog/\"\n",
        "TRAINING_DOGS_DIR = \"/tmp/cats-v-dogs/training/dogs/\"\n",
        "TESTING_DOGS_DIR = \"/tmp/cats-v-dogs/testing/dogs/\"\n",
        "\n",
        "# Proporção de divisão (90% para treinamento, 10% para teste)\n",
        "split_size = 0.9\n",
        "\n",
        "# Dividindo os dados\n",
        "split_data(CAT_SOURCE_DIR, TRAINING_CATS_DIR, TESTING_CATS_DIR, split_size)\n",
        "split_data(DOG_SOURCE_DIR, TRAINING_DOGS_DIR, TESTING_DOGS_DIR, split_size)\n",
        "\n",
        "# Saída esperada:\n",
        "# 666.jpg is zero length, so ignoring\n",
        "# 11702.jpg is zero length, so ignoring"
      ]
    },
    {
      "cell_type": "code",
      "execution_count": 6,
      "metadata": {
        "colab": {
          "base_uri": "https://localhost:8080/"
        },
        "id": "67JaIwdOo4Hy",
        "outputId": "8bcc7930-11f4-4c79-fe86-1a69364e6e36"
      },
      "outputs": [
        {
          "output_type": "stream",
          "name": "stdout",
          "text": [
            "Número de imagens de gatos no treinamento: 11250\n",
            "Número de imagens de cachorros no treinamento: 11250\n",
            "Número de imagens de gatos no teste: 1250\n",
            "Número de imagens de cachorros no teste: 1250\n"
          ]
        }
      ],
      "source": [
        "# Contando os arquivos em cada pasta\n",
        "print(f\"Número de imagens de gatos no treinamento: {len(os.listdir('/tmp/cats-v-dogs/training/cats/'))}\")\n",
        "print(f\"Número de imagens de cachorros no treinamento: {len(os.listdir('/tmp/cats-v-dogs/training/dogs/'))}\")\n",
        "print(f\"Número de imagens de gatos no teste: {len(os.listdir('/tmp/cats-v-dogs/testing/cats/'))}\")\n",
        "print(f\"Número de imagens de cachorros no teste: {len(os.listdir('/tmp/cats-v-dogs/testing/dogs/'))}\")\n",
        "\n",
        "# Saída esperada:\n",
        "# Número de imagens de gatos no treinamento: 11250\n",
        "# Número de imagens de cachorros no treinamento: 11250\n",
        "# Número de imagens de gatos no teste: 1250\n",
        "# Número de imagens de cachorros no teste: 1250"
      ]
    },
    {
      "cell_type": "code",
      "execution_count": 7,
      "metadata": {
        "colab": {
          "base_uri": "https://localhost:8080/",
          "height": 392
        },
        "id": "jTi9F3zEpbwb",
        "outputId": "70e2a021-84e1-4465-cd24-f654210ab1dc"
      },
      "outputs": [
        {
          "output_type": "stream",
          "name": "stderr",
          "text": [
            "<ipython-input-7-0227c36dafb4>:5: UserWarning: `input_shape` is undefined or non-square, or `rows` is not in [96, 128, 160, 192, 224]. Weights for input shape (224, 224) will be loaded as the default.\n",
            "  base_model = tf.keras.applications.MobileNetV2(\n"
          ]
        },
        {
          "output_type": "stream",
          "name": "stdout",
          "text": [
            "Downloading data from https://storage.googleapis.com/tensorflow/keras-applications/mobilenet_v2/mobilenet_v2_weights_tf_dim_ordering_tf_kernels_1.0_224_no_top.h5\n",
            "\u001b[1m9406464/9406464\u001b[0m \u001b[32m━━━━━━━━━━━━━━━━━━━━\u001b[0m\u001b[37m\u001b[0m \u001b[1m0s\u001b[0m 0us/step\n"
          ]
        },
        {
          "output_type": "display_data",
          "data": {
            "text/plain": [
              "\u001b[1mModel: \"sequential\"\u001b[0m\n"
            ],
            "text/html": [
              "<pre style=\"white-space:pre;overflow-x:auto;line-height:normal;font-family:Menlo,'DejaVu Sans Mono',consolas,'Courier New',monospace\"><span style=\"font-weight: bold\">Model: \"sequential\"</span>\n",
              "</pre>\n"
            ]
          },
          "metadata": {}
        },
        {
          "output_type": "display_data",
          "data": {
            "text/plain": [
              "┏━━━━━━━━━━━━━━━━━━━━━━━━━━━━━━━━━━━━━━┳━━━━━━━━━━━━━━━━━━━━━━━━━━━━━┳━━━━━━━━━━━━━━━━━┓\n",
              "┃\u001b[1m \u001b[0m\u001b[1mLayer (type)                        \u001b[0m\u001b[1m \u001b[0m┃\u001b[1m \u001b[0m\u001b[1mOutput Shape               \u001b[0m\u001b[1m \u001b[0m┃\u001b[1m \u001b[0m\u001b[1m        Param #\u001b[0m\u001b[1m \u001b[0m┃\n",
              "┡━━━━━━━━━━━━━━━━━━━━━━━━━━━━━━━━━━━━━━╇━━━━━━━━━━━━━━━━━━━━━━━━━━━━━╇━━━━━━━━━━━━━━━━━┩\n",
              "│ mobilenetv2_1.00_224 (\u001b[38;5;33mFunctional\u001b[0m)    │ (\u001b[38;5;45mNone\u001b[0m, \u001b[38;5;34m5\u001b[0m, \u001b[38;5;34m5\u001b[0m, \u001b[38;5;34m1280\u001b[0m)          │       \u001b[38;5;34m2,257,984\u001b[0m │\n",
              "├──────────────────────────────────────┼─────────────────────────────┼─────────────────┤\n",
              "│ global_average_pooling2d             │ (\u001b[38;5;45mNone\u001b[0m, \u001b[38;5;34m1280\u001b[0m)                │               \u001b[38;5;34m0\u001b[0m │\n",
              "│ (\u001b[38;5;33mGlobalAveragePooling2D\u001b[0m)             │                             │                 │\n",
              "├──────────────────────────────────────┼─────────────────────────────┼─────────────────┤\n",
              "│ dense (\u001b[38;5;33mDense\u001b[0m)                        │ (\u001b[38;5;45mNone\u001b[0m, \u001b[38;5;34m512\u001b[0m)                 │         \u001b[38;5;34m655,872\u001b[0m │\n",
              "├──────────────────────────────────────┼─────────────────────────────┼─────────────────┤\n",
              "│ dropout (\u001b[38;5;33mDropout\u001b[0m)                    │ (\u001b[38;5;45mNone\u001b[0m, \u001b[38;5;34m512\u001b[0m)                 │               \u001b[38;5;34m0\u001b[0m │\n",
              "├──────────────────────────────────────┼─────────────────────────────┼─────────────────┤\n",
              "│ dense_1 (\u001b[38;5;33mDense\u001b[0m)                      │ (\u001b[38;5;45mNone\u001b[0m, \u001b[38;5;34m1\u001b[0m)                   │             \u001b[38;5;34m513\u001b[0m │\n",
              "└──────────────────────────────────────┴─────────────────────────────┴─────────────────┘\n"
            ],
            "text/html": [
              "<pre style=\"white-space:pre;overflow-x:auto;line-height:normal;font-family:Menlo,'DejaVu Sans Mono',consolas,'Courier New',monospace\">┏━━━━━━━━━━━━━━━━━━━━━━━━━━━━━━━━━━━━━━┳━━━━━━━━━━━━━━━━━━━━━━━━━━━━━┳━━━━━━━━━━━━━━━━━┓\n",
              "┃<span style=\"font-weight: bold\"> Layer (type)                         </span>┃<span style=\"font-weight: bold\"> Output Shape                </span>┃<span style=\"font-weight: bold\">         Param # </span>┃\n",
              "┡━━━━━━━━━━━━━━━━━━━━━━━━━━━━━━━━━━━━━━╇━━━━━━━━━━━━━━━━━━━━━━━━━━━━━╇━━━━━━━━━━━━━━━━━┩\n",
              "│ mobilenetv2_1.00_224 (<span style=\"color: #0087ff; text-decoration-color: #0087ff\">Functional</span>)    │ (<span style=\"color: #00d7ff; text-decoration-color: #00d7ff\">None</span>, <span style=\"color: #00af00; text-decoration-color: #00af00\">5</span>, <span style=\"color: #00af00; text-decoration-color: #00af00\">5</span>, <span style=\"color: #00af00; text-decoration-color: #00af00\">1280</span>)          │       <span style=\"color: #00af00; text-decoration-color: #00af00\">2,257,984</span> │\n",
              "├──────────────────────────────────────┼─────────────────────────────┼─────────────────┤\n",
              "│ global_average_pooling2d             │ (<span style=\"color: #00d7ff; text-decoration-color: #00d7ff\">None</span>, <span style=\"color: #00af00; text-decoration-color: #00af00\">1280</span>)                │               <span style=\"color: #00af00; text-decoration-color: #00af00\">0</span> │\n",
              "│ (<span style=\"color: #0087ff; text-decoration-color: #0087ff\">GlobalAveragePooling2D</span>)             │                             │                 │\n",
              "├──────────────────────────────────────┼─────────────────────────────┼─────────────────┤\n",
              "│ dense (<span style=\"color: #0087ff; text-decoration-color: #0087ff\">Dense</span>)                        │ (<span style=\"color: #00d7ff; text-decoration-color: #00d7ff\">None</span>, <span style=\"color: #00af00; text-decoration-color: #00af00\">512</span>)                 │         <span style=\"color: #00af00; text-decoration-color: #00af00\">655,872</span> │\n",
              "├──────────────────────────────────────┼─────────────────────────────┼─────────────────┤\n",
              "│ dropout (<span style=\"color: #0087ff; text-decoration-color: #0087ff\">Dropout</span>)                    │ (<span style=\"color: #00d7ff; text-decoration-color: #00d7ff\">None</span>, <span style=\"color: #00af00; text-decoration-color: #00af00\">512</span>)                 │               <span style=\"color: #00af00; text-decoration-color: #00af00\">0</span> │\n",
              "├──────────────────────────────────────┼─────────────────────────────┼─────────────────┤\n",
              "│ dense_1 (<span style=\"color: #0087ff; text-decoration-color: #0087ff\">Dense</span>)                      │ (<span style=\"color: #00d7ff; text-decoration-color: #00d7ff\">None</span>, <span style=\"color: #00af00; text-decoration-color: #00af00\">1</span>)                   │             <span style=\"color: #00af00; text-decoration-color: #00af00\">513</span> │\n",
              "└──────────────────────────────────────┴─────────────────────────────┴─────────────────┘\n",
              "</pre>\n"
            ]
          },
          "metadata": {}
        },
        {
          "output_type": "display_data",
          "data": {
            "text/plain": [
              "\u001b[1m Total params: \u001b[0m\u001b[38;5;34m2,914,369\u001b[0m (11.12 MB)\n"
            ],
            "text/html": [
              "<pre style=\"white-space:pre;overflow-x:auto;line-height:normal;font-family:Menlo,'DejaVu Sans Mono',consolas,'Courier New',monospace\"><span style=\"font-weight: bold\"> Total params: </span><span style=\"color: #00af00; text-decoration-color: #00af00\">2,914,369</span> (11.12 MB)\n",
              "</pre>\n"
            ]
          },
          "metadata": {}
        },
        {
          "output_type": "display_data",
          "data": {
            "text/plain": [
              "\u001b[1m Trainable params: \u001b[0m\u001b[38;5;34m656,385\u001b[0m (2.50 MB)\n"
            ],
            "text/html": [
              "<pre style=\"white-space:pre;overflow-x:auto;line-height:normal;font-family:Menlo,'DejaVu Sans Mono',consolas,'Courier New',monospace\"><span style=\"font-weight: bold\"> Trainable params: </span><span style=\"color: #00af00; text-decoration-color: #00af00\">656,385</span> (2.50 MB)\n",
              "</pre>\n"
            ]
          },
          "metadata": {}
        },
        {
          "output_type": "display_data",
          "data": {
            "text/plain": [
              "\u001b[1m Non-trainable params: \u001b[0m\u001b[38;5;34m2,257,984\u001b[0m (8.61 MB)\n"
            ],
            "text/html": [
              "<pre style=\"white-space:pre;overflow-x:auto;line-height:normal;font-family:Menlo,'DejaVu Sans Mono',consolas,'Courier New',monospace\"><span style=\"font-weight: bold\"> Non-trainable params: </span><span style=\"color: #00af00; text-decoration-color: #00af00\">2,257,984</span> (8.61 MB)\n",
              "</pre>\n"
            ]
          },
          "metadata": {}
        }
      ],
      "source": [
        "import tensorflow as tf\n",
        "from tensorflow.keras.optimizers import RMSprop\n",
        "\n",
        "# Carregando o modelo base pré-treinado\n",
        "base_model = tf.keras.applications.MobileNetV2(\n",
        "    input_shape=(150, 150, 3),\n",
        "    include_top=False,  # Remove a última camada densa do modelo original\n",
        "    weights='imagenet'  # Usa pesos pré-treinados no ImageNet\n",
        ")\n",
        "\n",
        "# Congelando os pesos do modelo base\n",
        "base_model.trainable = False\n",
        "\n",
        "# Definindo o modelo completo com Transfer Learning\n",
        "model = tf.keras.models.Sequential([\n",
        "    base_model,  # Modelo base\n",
        "    tf.keras.layers.GlobalAveragePooling2D(),  # Reduz as características extraídas\n",
        "    tf.keras.layers.Dense(512, activation='relu'),  # Camada densa\n",
        "    tf.keras.layers.Dropout(0.3),  # Evita overfitting\n",
        "    tf.keras.layers.Dense(1, activation='sigmoid')  # Saída para classificação binária\n",
        "])\n",
        "\n",
        "# Compilando o modelo\n",
        "model.compile(\n",
        "    optimizer=RMSprop(learning_rate=0.001),\n",
        "    loss='binary_crossentropy',\n",
        "    metrics=['accuracy']\n",
        ")\n",
        "\n",
        "# Resumo do modelo\n",
        "model.summary()\n"
      ]
    },
    {
      "cell_type": "code",
      "execution_count": 8,
      "metadata": {
        "colab": {
          "base_uri": "https://localhost:8080/"
        },
        "id": "PKmcb5adqEJa",
        "outputId": "1e2ac6a9-723a-443e-fa8b-9939a38bc2ac"
      },
      "outputs": [
        {
          "output_type": "stream",
          "name": "stdout",
          "text": [
            "Found 22499 images belonging to 2 classes.\n",
            "Found 2499 images belonging to 2 classes.\n",
            "Found 22499 images belonging to 2 classes.\n",
            "Found 2499 images belonging to 2 classes.\n"
          ]
        }
      ],
      "source": [
        "from tensorflow.keras.preprocessing.image import ImageDataGenerator\n",
        "\n",
        "# Diretório de treinamento\n",
        "TRAINING_DIR = \"/tmp/cats-v-dogs/training/\"\n",
        "train_datagen = ImageDataGenerator(rescale=1.0/255.0)  # Normaliza os valores dos pixels para [0, 1]\n",
        "\n",
        "# Gerador de dados de treinamento\n",
        "train_generator = train_datagen.flow_from_directory(\n",
        "    TRAINING_DIR,\n",
        "    batch_size=250,              # Define o tamanho do lote\n",
        "    class_mode='binary',         # Para classificação binária\n",
        "    target_size=(150, 150)       # Redimensiona as imagens para 150x150\n",
        ")\n",
        "\n",
        "# Diretório de validação\n",
        "VALIDATION_DIR = \"/tmp/cats-v-dogs/testing/\"\n",
        "validation_datagen = ImageDataGenerator(rescale=1.0/255.0)  # Normaliza os valores dos pixels\n",
        "\n",
        "# Gerador de dados de validação\n",
        "validation_generator = validation_datagen.flow_from_directory(\n",
        "    VALIDATION_DIR,\n",
        "    batch_size=250,\n",
        "    class_mode='binary',\n",
        "    target_size=(150, 150)\n",
        ")\n",
        "\n",
        "# Saída esperada:\n",
        "# Found 22498 images belonging to 2 classes.\n",
        "# Found 2500 images belonging to 2 classes.\n",
        "\n",
        "# Diretório de treinamento\n",
        "TRAINING_DIR = \"/tmp/cats-v-dogs/training/\"\n",
        "train_datagen = ImageDataGenerator(rescale=1.0/255.0)  # Normaliza os valores dos pixels para [0, 1]\n",
        "\n",
        "# Gerador de dados de treinamento\n",
        "train_generator = train_datagen.flow_from_directory(\n",
        "    TRAINING_DIR,\n",
        "    batch_size=250,              # Define o tamanho do lote\n",
        "    class_mode='binary',         # Para classificação binária\n",
        "    target_size=(150, 150)       # Redimensiona as imagens para 150x150\n",
        ")\n",
        "\n",
        "# Diretório de validação\n",
        "VALIDATION_DIR = \"/tmp/cats-v-dogs/testing/\"\n",
        "validation_datagen = ImageDataGenerator(rescale=1.0/255.0)  # Normaliza os valores dos pixels\n",
        "\n",
        "# Gerador de dados de validação\n",
        "validation_generator = validation_datagen.flow_from_directory(\n",
        "    VALIDATION_DIR,\n",
        "    batch_size=250,\n",
        "    class_mode='binary',\n",
        "    target_size=(150, 150)\n",
        ")\n",
        "\n",
        "# Saída esperada:\n",
        "# Found 22498 images belonging to 2 classes.\n",
        "# Found 2500 images belonging to 2 classes."
      ]
    },
    {
      "cell_type": "code",
      "execution_count": 9,
      "metadata": {
        "colab": {
          "base_uri": "https://localhost:8080/"
        },
        "id": "aNBL_h3JSwHA",
        "outputId": "58b1410c-9a1f-453d-dfb8-297dd9f35909"
      },
      "outputs": [
        {
          "output_type": "stream",
          "name": "stdout",
          "text": [
            "Epoch 1/15\n"
          ]
        },
        {
          "output_type": "stream",
          "name": "stderr",
          "text": [
            "/usr/local/lib/python3.10/dist-packages/keras/src/trainers/data_adapters/py_dataset_adapter.py:122: UserWarning: Your `PyDataset` class should call `super().__init__(**kwargs)` in its constructor. `**kwargs` can include `workers`, `use_multiprocessing`, `max_queue_size`. Do not pass these arguments to `fit()`, as they will be ignored.\n",
            "  self._warn_if_super_not_called()\n"
          ]
        },
        {
          "output_type": "stream",
          "name": "stdout",
          "text": [
            "\u001b[1m 9/90\u001b[0m \u001b[32m━━\u001b[0m\u001b[37m━━━━━━━━━━━━━━━━━━\u001b[0m \u001b[1m8:51\u001b[0m 7s/step - accuracy: 0.6969 - loss: 1.2765"
          ]
        },
        {
          "output_type": "stream",
          "name": "stderr",
          "text": [
            "/usr/local/lib/python3.10/dist-packages/PIL/TiffImagePlugin.py:949: UserWarning: Truncated File Read\n",
            "  warnings.warn(str(msg))\n"
          ]
        },
        {
          "output_type": "stream",
          "name": "stdout",
          "text": [
            "\u001b[1m90/90\u001b[0m \u001b[32m━━━━━━━━━━━━━━━━━━━━\u001b[0m\u001b[37m\u001b[0m \u001b[1m652s\u001b[0m 7s/step - accuracy: 0.8914 - loss: 0.4115 - val_accuracy: 0.9653 - val_loss: 0.0868\n",
            "Epoch 2/15\n"
          ]
        },
        {
          "output_type": "stream",
          "name": "stderr",
          "text": [
            "/usr/lib/python3.10/contextlib.py:153: UserWarning: Your input ran out of data; interrupting training. Make sure that your dataset or generator can generate at least `steps_per_epoch * epochs` batches. You may need to use the `.repeat()` function when building your dataset.\n",
            "  self.gen.throw(typ, value, traceback)\n"
          ]
        },
        {
          "output_type": "stream",
          "name": "stdout",
          "text": [
            "\r\u001b[1m90/90\u001b[0m \u001b[32m━━━━━━━━━━━━━━━━━━━━\u001b[0m\u001b[37m\u001b[0m \u001b[1m27s\u001b[0m 303ms/step - accuracy: 0.0000e+00 - loss: 0.0000e+00 - val_accuracy: 0.9610 - val_loss: 0.1050\n",
            "Epoch 3/15\n",
            "\u001b[1m90/90\u001b[0m \u001b[32m━━━━━━━━━━━━━━━━━━━━\u001b[0m\u001b[37m\u001b[0m \u001b[1m669s\u001b[0m 7s/step - accuracy: 0.9610 - loss: 0.0943 - val_accuracy: 0.9207 - val_loss: 0.1926\n",
            "Epoch 4/15\n",
            "\u001b[1m90/90\u001b[0m \u001b[32m━━━━━━━━━━━━━━━━━━━━\u001b[0m\u001b[37m\u001b[0m \u001b[1m27s\u001b[0m 299ms/step - accuracy: 0.0000e+00 - loss: 0.0000e+00 - val_accuracy: 0.9119 - val_loss: 0.2369\n",
            "Epoch 5/15\n",
            "\u001b[1m90/90\u001b[0m \u001b[32m━━━━━━━━━━━━━━━━━━━━\u001b[0m\u001b[37m\u001b[0m \u001b[1m716s\u001b[0m 7s/step - accuracy: 0.9618 - loss: 0.0931 - val_accuracy: 0.9387 - val_loss: 0.1660\n",
            "Epoch 6/15\n",
            "\u001b[1m90/90\u001b[0m \u001b[32m━━━━━━━━━━━━━━━━━━━━\u001b[0m\u001b[37m\u001b[0m \u001b[1m25s\u001b[0m 281ms/step - accuracy: 0.0000e+00 - loss: 0.0000e+00 - val_accuracy: 0.9329 - val_loss: 0.1533\n",
            "Epoch 7/15\n",
            "\u001b[1m90/90\u001b[0m \u001b[32m━━━━━━━━━━━━━━━━━━━━\u001b[0m\u001b[37m\u001b[0m \u001b[1m651s\u001b[0m 7s/step - accuracy: 0.9727 - loss: 0.0699 - val_accuracy: 0.9613 - val_loss: 0.0916\n",
            "Epoch 8/15\n",
            "\u001b[1m90/90\u001b[0m \u001b[32m━━━━━━━━━━━━━━━━━━━━\u001b[0m\u001b[37m\u001b[0m \u001b[1m30s\u001b[0m 333ms/step - accuracy: 0.0000e+00 - loss: 0.0000e+00 - val_accuracy: 0.9630 - val_loss: 0.1176\n",
            "Epoch 9/15\n",
            "\u001b[1m90/90\u001b[0m \u001b[32m━━━━━━━━━━━━━━━━━━━━\u001b[0m\u001b[37m\u001b[0m \u001b[1m662s\u001b[0m 7s/step - accuracy: 0.9791 - loss: 0.0543 - val_accuracy: 0.9633 - val_loss: 0.0875\n",
            "Epoch 10/15\n",
            "\u001b[1m90/90\u001b[0m \u001b[32m━━━━━━━━━━━━━━━━━━━━\u001b[0m\u001b[37m\u001b[0m \u001b[1m84s\u001b[0m 930ms/step - accuracy: 0.0000e+00 - loss: 0.0000e+00 - val_accuracy: 0.9630 - val_loss: 0.1079\n",
            "Epoch 11/15\n",
            "\u001b[1m90/90\u001b[0m \u001b[32m━━━━━━━━━━━━━━━━━━━━\u001b[0m\u001b[37m\u001b[0m \u001b[1m708s\u001b[0m 7s/step - accuracy: 0.9833 - loss: 0.0435 - val_accuracy: 0.9440 - val_loss: 0.1692\n",
            "Epoch 12/15\n",
            "\u001b[1m90/90\u001b[0m \u001b[32m━━━━━━━━━━━━━━━━━━━━\u001b[0m\u001b[37m\u001b[0m \u001b[1m24s\u001b[0m 266ms/step - accuracy: 0.0000e+00 - loss: 0.0000e+00 - val_accuracy: 0.9449 - val_loss: 0.1629\n",
            "Epoch 13/15\n",
            "\u001b[1m90/90\u001b[0m \u001b[32m━━━━━━━━━━━━━━━━━━━━\u001b[0m\u001b[37m\u001b[0m \u001b[1m633s\u001b[0m 7s/step - accuracy: 0.9852 - loss: 0.0390 - val_accuracy: 0.9653 - val_loss: 0.0934\n",
            "Epoch 14/15\n",
            "\u001b[1m90/90\u001b[0m \u001b[32m━━━━━━━━━━━━━━━━━━━━\u001b[0m\u001b[37m\u001b[0m \u001b[1m43s\u001b[0m 473ms/step - accuracy: 0.0000e+00 - loss: 0.0000e+00 - val_accuracy: 0.9670 - val_loss: 0.0954\n",
            "Epoch 15/15\n",
            "\u001b[1m90/90\u001b[0m \u001b[32m━━━━━━━━━━━━━━━━━━━━\u001b[0m\u001b[37m\u001b[0m \u001b[1m619s\u001b[0m 7s/step - accuracy: 0.9871 - loss: 0.0346 - val_accuracy: 0.9687 - val_loss: 0.0918\n",
            "\n",
            "### Avaliação no conjunto de teste ###\n",
            "\u001b[1m10/10\u001b[0m \u001b[32m━━━━━━━━━━━━━━━━━━━━\u001b[0m\u001b[37m\u001b[0m \u001b[1m62s\u001b[0m 6s/step - accuracy: 0.9592 - loss: 0.1092\n",
            "Loss no conjunto de teste: 0.10434252768754959\n",
            "Acurácia no conjunto de teste: 0.9647859334945679\n",
            "\u001b[1m10/10\u001b[0m \u001b[32m━━━━━━━━━━━━━━━━━━━━\u001b[0m\u001b[37m\u001b[0m \u001b[1m67s\u001b[0m 7s/step\n",
            "\n",
            "### Relatório de Classificação ###\n",
            "              precision    recall  f1-score   support\n",
            "\n",
            "           0       0.50      0.49      0.49      1250\n",
            "           1       0.50      0.51      0.51      1249\n",
            "\n",
            "    accuracy                           0.50      2499\n",
            "   macro avg       0.50      0.50      0.50      2499\n",
            "weighted avg       0.50      0.50      0.50      2499\n",
            "\n"
          ]
        }
      ],
      "source": [
        "# Note que o treinamento pode levar algum tempo, dependendo do hardware disponível.\n",
        "\n",
        "# Treinando o modelo\n",
        "history = model.fit(\n",
        "    train_generator,                     # Gerador de dados de treinamento\n",
        "    epochs=15,                           # Número de épocas\n",
        "    steps_per_epoch=90,                  # Número de passos por época (tamanho do conjunto de treinamento / batch_size)\n",
        "    validation_data=validation_generator, # Gerador de dados de validação\n",
        "    validation_steps=6                   # Número de passos por validação (tamanho do conjunto de validação / batch_size)\n",
        ")\n",
        "\n",
        "# Avaliação no conjunto de teste\n",
        "print(\"\\n### Avaliação no conjunto de teste ###\")\n",
        "test_loss, test_acc = model.evaluate(validation_generator)\n",
        "print(f\"Loss no conjunto de teste: {test_loss}\")\n",
        "print(f\"Acurácia no conjunto de teste: {test_acc}\")\n",
        "\n",
        "# Relatório detalhado\n",
        "from sklearn.metrics import classification_report\n",
        "y_pred = model.predict(validation_generator)\n",
        "y_pred_classes = (y_pred > 0.5).astype(\"int32\")  # Convertendo para classes binárias\n",
        "print(\"\\n### Relatório de Classificação ###\")\n",
        "print(classification_report(validation_generator.classes, y_pred_classes))\n",
        "\n"
      ]
    },
    {
      "cell_type": "code",
      "execution_count": null,
      "metadata": {
        "colab": {
          "base_uri": "https://localhost:8080/",
          "height": 927
        },
        "id": "J0YwNYEcUKLs",
        "outputId": "c6c5bfbf-7a5c-4f29-b63d-3c44e264e309"
      },
      "outputs": [
        {
          "output_type": "display_data",
          "data": {
            "text/plain": [
              "<Figure size 640x480 with 1 Axes>"
            ],
            "image/png": "[encoded data removed]"
          },
          "metadata": {}
        },
        {
          "output_type": "display_data",
          "data": {
            "text/plain": [
              "<Figure size 640x480 with 1 Axes>"
            ],
            "image/png": "[encoded data removed]"
          },
          "metadata": {}
        }
      ],
      "source": [
        "# Ativar inline plots no Jupyter Notebook\n",
        "%matplotlib inline\n",
        "import matplotlib.image as mpimg\n",
        "import matplotlib.pyplot as plt\n",
        "\n",
        "# Recuperar os resultados de acurácia e perda do histórico de treinamento\n",
        "acc = history.history['accuracy']  # Acurácia de treinamento\n",
        "val_acc = history.history['val_accuracy']  # Acurácia de validação\n",
        "loss = history.history['loss']  # Perda de treinamento\n",
        "val_loss = history.history['val_loss']  # Perda de validação\n",
        "\n",
        "# Número de épocas\n",
        "epochs = range(len(acc))\n",
        "\n",
        "# Gráfico da acurácia de treinamento e validação por época\n",
        "plt.plot(epochs, acc, 'r', label=\"Training Accuracy\")\n",
        "plt.plot(epochs, val_acc, 'b', label=\"Validation Accuracy\")\n",
        "plt.title('Training and Validation Accuracy')\n",
        "plt.xlabel('Epochs')\n",
        "plt.ylabel('Accuracy')\n",
        "plt.legend()\n",
        "plt.figure()\n",
        "\n",
        "# Gráfico da perda de treinamento e validação por época\n",
        "plt.plot(epochs, loss, 'r', label=\"Training Loss\")\n",
        "plt.plot(epochs, val_loss, 'b', label=\"Validation Loss\")\n",
        "plt.title('Training and Validation Loss')\n",
        "plt.xlabel('Epochs')\n",
        "plt.ylabel('Loss')\n",
        "plt.legend()\n",
        "plt.show()\n",
        "\n"
      ]
    }
  ],
  "metadata": {
    "colab": {
      "provenance": [],
      "gpuType": "V28",
      "authorship_tag": "ABX9TyORV7IrCzYQX5M0W6wQKiLT",
      "include_colab_link": true
    },
    "kernelspec": {
      "display_name": "Python 3",
      "name": "python3"
    },
    "language_info": {
      "name": "python"
    },
    "accelerator": "TPU"
  },
  "nbformat": 4,
  "nbformat_minor": 0
}